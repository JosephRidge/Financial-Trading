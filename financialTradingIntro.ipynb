{
 "cells": [
  {
   "cell_type": "markdown",
   "metadata": {},
   "source": [
    "## Financial trading:\n",
    "--> **Buying and selling** of financial assets, also called **financial securities**.\n",
    "- People trade a variety of financial instruments, including equities: shares of stocks representing ownership of companies, bonds: debt instruments issued by the government or corporations, forex or foreign exchange market of currencies, commodities such as gold, silver, and oil, and cryptocurrencies like Bitcoin.\n",
    "\n",
    "## A trader makes a profit:\n",
    "- When **buying** a security at a lower price and selling later at a higher price, known as **going long**. \n",
    "- Conversely, they may **sell** a (borrowed) security at a **higher price** and **buy it back at a lower price**, known as **going short**.\n",
    "\n",
    "## Institutional traders: \n",
    "- Such as **hedge funds** or **investment banks**, may trade in order to hedge financial risks, provide market liquidity, or re-balance their portfolios. \n",
    "- **Retail traders** are mostly trading for their own accounts, sometimes as a side hustle.\n",
    "\n",
    "## Trading vs investing\n",
    "- The main difference between trading and investing is time-horizon. **Trading** typically has a **shorter holding period**, ranging from days to months. **Investing** has a **longer time horizon**, ranging up to years or even decades. \n",
    "- **Trading** focuses on **short-term market trends** and tries to **profit from volatility** and **price fluctuations**.\n",
    "- **Investing** focuses on **market fundamentals, macroeconomic environment**, and aims to ride on **big trends** that can span years. \n",
    "\n",
    "## Financial time series data\n",
    "For financial trading, you will mostly work with time series data of security prices. \n",
    "- **Time series data** is a sequence of data points indexed in time order.\n",
    "\n",
    "# Visualizations\n",
    "## Plot line chart of time series data\n",
    "We can plot the time series data with the **\"plot\"** function, using the **\"matplotlib show\"** function to display the plot. \n",
    "- The resulting **line chart** gives us information on **past price pattern**\n",
    "\n",
    "## Candlestick chart \n",
    "We can also **visualize** the price movement using a candlestick chart. Each candlestick shows price information for one-period, for example one-day. Within each candle we can see: open and close in the candle body and high and low in the candlewick. Typically a white or green candle represents the close price above the open price, and a black or red candle represents the close price below the open price.\n",
    "\n",
    "### Plotting CandleStick Chart\n",
    "- We can easily plot candlestick charts with the Python package **\"plotly dot graph underscore objects\"**.\n",
    "- We import the package as **go** and then **define** a **candlestick using the time series data index**, ie Date, and the \"Open\", \"High\", \"Low\", \"Close\" columns in the price data. We then call Figure to create a plot, passing in our data as a list. Finally, we call the \"show\" method to display it. This will create an interactive chart."
   ]
  },
  {
   "cell_type": "code",
   "execution_count": null,
   "metadata": {},
   "outputs": [],
   "source": [
    "import plotly.graph_objects as go\n",
    "# Define the candlestick\n",
    "candlestick = go.Candlestick( x = bitcoin_data.index,open = bitcoin_data['Open'], high = bitcoin_data['High'], low = bitcoin_data['Low'],  close = bitcoin_data['Close'])\n",
    "# Create a plot\n",
    "fig = go.Figure(data=[candlestick])# Show the plotfig.show()\n"
   ]
  },
  {
   "cell_type": "markdown",
   "metadata": {},
   "source": [
    "## Different types of traders\n",
    "\n",
    "We can categorize traders into a few types by how long they hold their trading positions, that is their **holding periods**.\n",
    "- **Day traders** hold their positions t*hroughout the day, but usually not overnight*. They tend to trade frequently. \n",
    "- **Swing traders** hold their positions from a *few days to several weeks*. \n",
    "- **Position traders** hold their positions from a *few months to several years*."
   ]
  },
  {
   "cell_type": "markdown",
   "metadata": {},
   "source": [
    "## Resampling Data\n",
    "- Depending on the trading style, you may want to **look** at the time series data from **different intervals**, such as hourly, daily, weekly, etc.\n",
    "\n",
    "- For example, **a swing trader** would prefer to have a *daily price* snapshot instead of one for every hour.\n",
    "\n",
    "- You can use the **\"resample\"** method to sample a Python DataFrame\n",
    "\n",
    "## Calculate daily returns\n",
    "- It is also helpful to get familiar with your trading data by checking **past returns** and **volatility**\n",
    "\n",
    "- For example, we can use the **\"pct_change\"** method to calculate percentage change in the price, also known as **price return**.\n",
    "\n",
    "- It computes the percentage change from the **preceding row** by default, so if we use **daily price data**, we will get **daily returns**. \n",
    "\n",
    "By plotting the results, we can obtain a quick understanding of typical **return ranges** and the **volatility profile** of a **financial asset**.\n",
    "\n",
    "## Plot a histogram of daily returns \n",
    "- It is also helpful to plot a histogram of **daily price returns**.\n",
    "\n",
    "- **A histogram** is a visual representation of the distribution of the underlying data.\n",
    "\n",
    "- To plot a histogram in Python, call the **\"hist\"** method on a **DataFrame column**. You can use **\"bins\"** to specify how **granular** you want the chart to be.\n",
    "\n",
    "## Data Transformations\n",
    "The financial market reflects fear, greed, and human behavioral biases, hence the market data is inherently noisy and messy. To make sense of the data, traders perform various data transformations and create so-called **technical indicators**.\n",
    "\n",
    "A very common **indicator** is the **simple moving average or SMA**. \n",
    "It is simply the arithmetic mean of the price over a specified period. The average is called \"moving\" because it is always calculated using the most recent n periods, and therefore moves along with the price on the chart. The SMA can be easily calculated using \"dot rolling dot mean\" on the price column, and specify the averaging period with the argument \"window equals n\"."
   ]
  }
 ],
 "metadata": {
  "language_info": {
   "name": "python"
  }
 },
 "nbformat": 4,
 "nbformat_minor": 2
}
